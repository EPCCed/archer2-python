{
 "cells": [
  {
   "cell_type": "markdown",
   "metadata": {
    "slideshow": {
     "slide_type": "slide"
    }
   },
   "source": [
    "\n",
    "# SCIENTIFIC PYTHON: MATPLOTLIB\n",
    "\n",
    "### Website:  http://www.archer2.ac.uk \n",
    "### Helpdesk: support@archer2.ac.uk\n",
    "\n",
    "<br>\n",
    "\n",
    "<img src=\"../images/ukri_logo.png\" style=\"float: center\">\n",
    "<br>\n",
    "<img src=\"../images/hpe_logo.png\" style=\"float: center\">\n",
    "<br>\n",
    "<img src=\"../images/epcc_logo.png\" style=\"float: center\">\n",
    "<br>\n",
    "<img src=\"../images/archer2_logo.png\" style=\"float: center\">\n",
    "<br>"
   ]
  },
  {
   "cell_type": "markdown",
   "metadata": {
    "slideshow": {
     "slide_type": "slide"
    }
   },
   "source": [
    "\n",
    "\n",
    "\n",
    "<img src=\"images/reusematerial.png\" style=\"float: center; width: 50\" >"
   ]
  },
  {
   "cell_type": "markdown",
   "metadata": {
    "slideshow": {
     "slide_type": "slide"
    }
   },
   "source": [
    "\n",
    "# Matplotlib\n",
    "\n",
    "## Presenter: Adrian Jackson\n",
    "\n",
    "#### Contributing authors:\n",
    "#### Neelofer Bangawala, Arno Proeme, Kevin Stratford, Andy Turner\n"
   ]
  },
  {
   "cell_type": "markdown",
   "metadata": {
    "slideshow": {
     "slide_type": "slide"
    }
   },
   "source": [
    "## What is matplotlib?\n",
    "\n",
    "* Matplotlib is a plotting library for Python\n",
    "\n",
    "  * Claim: “make the easy things easy and the hard things possible”.\n",
    "\n",
    "\n",
    "* Capable of:\n",
    "\n",
    "  * Interactive and non-interactive plotting\n",
    "  * Producing publication-quality figures\n",
    "  * Can be used for schematic diagrams  \n",
    "\n",
    "\n",
    "*  Closely integrated with numpy\n",
    "\n",
    "  * Use `numpy` functions for reading data\n",
    "  * `matplotlib` can plot numpy arrays easily\n",
    "\n",
    "\n",
    "* See\n",
    "\n",
    "  * http://matplotlib.org/"
   ]
  },
  {
   "cell_type": "markdown",
   "metadata": {
    "slideshow": {
     "slide_type": "slide"
    }
   },
   "source": [
    "## What does it do?\n",
    "\n",
    "* People often want to have a quick look at data\n",
    "    * ...and perhaps manipulate it\n",
    "\n",
    "\n",
    "* Large amount of functionality:\n",
    "\n",
    "  * Line charts, bar charts, scatter plots, error bars, etc..\n",
    "  * Heatmaps, contours, surfaces\n",
    "  * Geographical and map-based plotting\n",
    "  \n",
    "\n",
    "* Can be used\n",
    "  * Via a standalone script (automation of plotting tasks)\n",
    "  * Via iPython shell\n",
    "  * Within a notebook\n",
    "\n",
    "\n",
    "* All methods allow you to save your work\n"
   ]
  },
  {
   "cell_type": "markdown",
   "metadata": {
    "slideshow": {
     "slide_type": "slide"
    }
   },
   "source": [
    "### Basic concepts\n",
    "\n",
    "<img src=\"./figuremap.png\">\n",
    "\n",
    "* Everything is assembled by Python commands\n",
    "\n",
    "\n",
    "* Create a figure with an axes area (this is the plotting area)\n",
    "\n",
    "\n",
    "* Can create one or more plots in a figure\n",
    "\n",
    "\n",
    "* Only one plot (or axes) is active at a given time\n",
    "\n",
    "\n",
    "* Use `show()` to display the plot (if in non-interactive mode - see later)\n",
    "\n",
    "`matplotlib.pyplot` contains the high-level functions we need to do all the above and more"
   ]
  },
  {
   "cell_type": "markdown",
   "metadata": {
    "slideshow": {
     "slide_type": "slide"
    }
   },
   "source": [
    "## Note\n",
    "\n",
    "`matplotlib` is a (**very**) large package, and has a great many objects and methods (functions). This can be confusing.\n",
    "\n",
    "Make sure you are looking at documentation for `matplotlib.pyplot`\n",
    "\n",
    "http://matplotlib.org/api/pyplot_summary.html\n",
    "\n",
    "It can be helpful to use fully qualified names:\n",
    "\n",
    "```python\n",
    "import matplotlib\n",
    "import matplotlib.pyplot\n",
    "\n",
    "...\n",
    "matplotlib.pyplot.plot(x, y, 'rv')\n",
    "```\n",
    "\n",
    "to make sure you are getting the right methods."
   ]
  },
  {
   "cell_type": "markdown",
   "metadata": {
    "slideshow": {
     "slide_type": "slide"
    }
   },
   "source": [
    "\n",
    "## Basic plotting\n",
    "\n",
    "Import `numpy` (customary to use the alias `np`), `matplotlib`, and matplotlib's plotting functionality via the pyplot interface (`plt` is the customary alias here)"
   ]
  },
  {
   "cell_type": "code",
   "execution_count": 1,
   "metadata": {
    "slideshow": {
     "slide_type": "-"
    }
   },
   "outputs": [],
   "source": [
    "# If using a notebook, plots can be forced to appear in\n",
    "# the browser by adding the \"inline\" option\n",
    "\n",
    "%matplotlib inline\n",
    "import numpy as np\n",
    "import matplotlib\n",
    "import matplotlib.pyplot as plt"
   ]
  },
  {
   "cell_type": "code",
   "execution_count": 2,
   "metadata": {
    "slideshow": {
     "slide_type": "-"
    }
   },
   "outputs": [],
   "source": [
    "# Create some data points for y = cos(x) using numpy\n",
    "xmin = 0\n",
    "xmax = 10\n",
    "npts = 50\n",
    "x = np.linspace(xmin, xmax, npts) \n",
    "y = np.cos(x)"
   ]
  },
  {
   "cell_type": "code",
   "execution_count": 3,
   "metadata": {
    "slideshow": {
     "slide_type": "-"
    }
   },
   "outputs": [
    {
     "data": {
      "image/png": "[encoded data removed]",
      "text/plain": [
       "<Figure size 432x288 with 1 Axes>"
      ]
     },
     "metadata": {
      "needs_background": "light"
     },
     "output_type": "display_data"
    }
   ],
   "source": [
    "plt.plot(x, y, 'gx')\n",
    "plt.show()"
   ]
  },
  {
   "cell_type": "markdown",
   "metadata": {
    "slideshow": {
     "slide_type": "slide"
    }
   },
   "source": [
    "\n",
    "## Saving images to file\n",
    "\n",
    "*  Use, e.g., `pyplot.savefig()`\n",
    "\n",
    "*  File format is determined from the filename extension you supply\n",
    "\n",
    "*  Commonly supports: `.png`, `.jpg`, `.pdf`, `.ps`\n",
    "\n",
    "* Other options to control, e.g., resolution\n"
   ]
  },
  {
   "cell_type": "code",
   "execution_count": 9,
   "metadata": {
    "scrolled": true,
    "slideshow": {
     "slide_type": "-"
    }
   },
   "outputs": [
    {
     "data": {
      "image/png": "[encoded data removed]",
      "text/plain": [
       "<Figure size 432x288 with 1 Axes>"
      ]
     },
     "metadata": {
      "needs_background": "light"
     },
     "output_type": "display_data"
    }
   ],
   "source": [
    "# Save image to file in different formats\n",
    "\n",
    "plt.plot(x, y, 'bs')\n",
    "plt.savefig(\"cos_plot.pdf\")\n",
    "plt.savefig(\"cos_plot.png\", dpi=300)\n",
    "plt.show()"
   ]
  },
  {
   "cell_type": "code",
   "execution_count": null,
   "metadata": {},
   "outputs": [],
   "source": [
    "# Check image has been saved\n",
    "! ls"
   ]
  },
  {
   "cell_type": "markdown",
   "metadata": {
    "slideshow": {
     "slide_type": "slide"
    }
   },
   "source": [
    "\n",
    "## Exercise : Plot data from a file\n",
    "\n",
    "Again, this exercise can be done within the notebook, or in an iPython shell, or by writing a script. Note that the interaction is slightly different in each case.\n",
    "\n",
    "### Files\n",
    "\n",
    "Check that two associated data files `random1.dat` and `random2.dat` are available."
   ]
  },
  {
   "cell_type": "code",
   "execution_count": null,
   "metadata": {
    "slideshow": {
     "slide_type": "-"
    }
   },
   "outputs": [],
   "source": [
    "! ls"
   ]
  },
  {
   "cell_type": "markdown",
   "metadata": {},
   "source": [
    "#### Step 1\n",
    "\n",
    "Read in the data from the files using `numpy.genfromtxt()`. You should have two arrays, e.g., `data1` and `data2`. The files contain pairs of values which we will interpret as x and y coordinates. Check what these data look like (that is, check the attributes of the resulting `numpy` arrays)."
   ]
  },
  {
   "cell_type": "code",
   "execution_count": null,
   "metadata": {},
   "outputs": [],
   "source": [
    "data1 = np.genfromtxt(\"random1.dat\")\n",
    "data2 = np.genfromtxt(\"random2.dat\")"
   ]
  },
  {
   "cell_type": "markdown",
   "metadata": {},
   "source": [
    "#### Step 2\n",
    "\n",
    "Plot `data1` using matplotlib to appear as red crosses (check the online documentation for `pyplot.plot`). You will need x-coordinates `data1[:,0]` and the corresponding y-coordinates"
   ]
  },
  {
   "cell_type": "code",
   "execution_count": null,
   "metadata": {},
   "outputs": [],
   "source": [
    "..."
   ]
  },
  {
   "cell_type": "markdown",
   "metadata": {},
   "source": [
    "#### Step 3\n",
    "\n",
    "Now plot `data2` to appear a green circles connected by a line."
   ]
  },
  {
   "cell_type": "code",
   "execution_count": null,
   "metadata": {},
   "outputs": [],
   "source": [
    "..."
   ]
  },
  {
   "cell_type": "markdown",
   "metadata": {},
   "source": [
    "#### Step 4\n",
    "1. How do we show `data1` and `data2` on the same plot?\n",
    "2. Can you find out how to add labels to the axes?\n",
    "3. Can you add a legend?\n",
    "\n",
    "Hint: you need something like\n",
    "```python\n",
    "plot(x, y, '+', label = \"text\")\n",
    "```\n",
    "for the legend"
   ]
  },
  {
   "cell_type": "code",
   "execution_count": null,
   "metadata": {},
   "outputs": [],
   "source": [
    "..."
   ]
  },
  {
   "cell_type": "markdown",
   "metadata": {
    "slideshow": {
     "slide_type": "slide"
    }
   },
   "source": [
    "\n",
    "### Solution : Plot data from a file\n"
   ]
  },
  {
   "cell_type": "code",
   "execution_count": null,
   "metadata": {},
   "outputs": [],
   "source": [
    "%load exercise1.py\n"
   ]
  },
  {
   "cell_type": "markdown",
   "metadata": {
    "slideshow": {
     "slide_type": "slide"
    }
   },
   "source": [
    "\n",
    "## Line and marker styles\n",
    "\n",
    "There are many ways to customise a plot. These may involve interaction with other `matplotlib` objects, e.g."
   ]
  },
  {
   "cell_type": "code",
   "execution_count": null,
   "metadata": {
    "slideshow": {
     "slide_type": "-"
    }
   },
   "outputs": [],
   "source": [
    "# Set the figure size and add a plot\n",
    "# (uses x and y from one of the above cells).\n",
    "# The figure size (in inches) can be specified\n",
    "# https://matplotlib.org/3.1.1/api/_as_gen/matplotlib.pyplot.plot.html\n",
    "\n",
    "fig = plt.figure(figsize=(3,3)) \n",
    "plt.plot(x, y, 'c-')\n",
    "plt.show()\n"
   ]
  },
  {
   "cell_type": "code",
   "execution_count": null,
   "metadata": {
    "slideshow": {
     "slide_type": "-"
    }
   },
   "outputs": [],
   "source": [
    "# The linewidth, and linestyle can be changed.\n",
    "# Linestyles include '-', '.-', ':', '--'\n",
    "\n",
    "plt.plot(x, y, 'k:', linewidth=2.0)\n",
    "plt.show()\n"
   ]
  },
  {
   "cell_type": "code",
   "execution_count": null,
   "metadata": {
    "slideshow": {
     "slide_type": "-"
    }
   },
   "outputs": [],
   "source": [
    "# Markers and their properties can be controlled.\n",
    "# Unfilled markers: '.',+','x','1' to '4','|'\n",
    "\n",
    "plt.plot(x, y, '|', markersize=10)\n",
    "plt.show()\n"
   ]
  },
  {
   "cell_type": "code",
   "execution_count": null,
   "metadata": {
    "slideshow": {
     "slide_type": "-"
    }
   },
   "outputs": [],
   "source": [
    "# Filled markers include:\n",
    "# 'o', 's','*','d','>','^','v', 'p', 'h'\n",
    "\n",
    "plt.plot(x, y, \"^\", markerfacecolor = 'y', \\\n",
    "      markeredgecolor = 'k',markersize=10)\n",
    "plt.show()\n"
   ]
  },
  {
   "cell_type": "markdown",
   "metadata": {
    "slideshow": {
     "slide_type": "slide"
    }
   },
   "source": [
    "\n",
    "## Axes and labels\n",
    "\n",
    "Set x-axis and y-axis limits, adjust title font properties."
   ]
  },
  {
   "cell_type": "code",
   "execution_count": null,
   "metadata": {
    "slideshow": {
     "slide_type": "-"
    }
   },
   "outputs": [],
   "source": [
    "# Set axis limits\n",
    "\n",
    "plt.xlim((0.0, np.pi))\n",
    "plt.ylim((-1.0, +1.0))\n",
    "plt.plot(x, y, 'mo-')\n",
    "plt.show()\n"
   ]
  },
  {
   "cell_type": "code",
   "execution_count": null,
   "metadata": {
    "slideshow": {
     "slide_type": "-"
    }
   },
   "outputs": [],
   "source": [
    "# Add a centered title and set font properties\n",
    "# with 'suptitle'\n",
    "\n",
    "plt.plot(x, y, 'x')\n",
    "\n",
    "plt.suptitle('A plot of $cos(x)$', fontsize = 20)\n",
    "\n",
    "# Title location can be controlled with 'title' via\n",
    "# \"loc\": center, left, right and\n",
    "# \"verticalalignment\": center, top, bottom, baseline\n",
    "\n",
    "plt.title('A Placed Title', loc = 'left', \\\n",
    "          verticalalignment = 'baseline')\n",
    "plt.show()"
   ]
  },
  {
   "cell_type": "markdown",
   "metadata": {
    "slideshow": {
     "slide_type": "slide"
    }
   },
   "source": [
    "\n",
    "## Tickmarks and annotations\n",
    "\n",
    "Add custom tickmarks and annotations."
   ]
  },
  {
   "cell_type": "code",
   "execution_count": null,
   "metadata": {
    "slideshow": {
     "slide_type": "-"
    }
   },
   "outputs": [],
   "source": [
    "# Tick marks: take the default, or set explicitly\n",
    "\n",
    "fig = plt.figure(figsize=(4,3.5))\n",
    "plt.plot(x, y, 'x')\n",
    "nticks = 4\n",
    "tickpos = np.linspace(xmin,xmax,nticks)\n",
    "ticklabels = np.array(['t1','t2','t3','t4'])\n",
    "plt.xticks(tickpos, ticklabels, \\\n",
    "           rotation='vertical')\n",
    "plt.show()\n"
   ]
  },
  {
   "cell_type": "code",
   "execution_count": null,
   "metadata": {
    "slideshow": {
     "slide_type": "-"
    }
   },
   "outputs": [],
   "source": [
    "# Arrows and annotations\n",
    "\n",
    "plt.plot(x, y, 'x')\n",
    "atext = 'annotate this'\n",
    "arrowtiploc = (1.5, 0.5)\n",
    "textloc=(3, 0.75)\n",
    "\n",
    "plt.annotate(atext, xy=arrowtiploc, xytext=textloc,\n",
    "            arrowprops=dict(width=5,headwidth=15,\n",
    "            facecolor='red', shrink=0.01),)\n",
    "plt.show()\n",
    "\n",
    "#?plt.annotate"
   ]
  },
  {
   "cell_type": "markdown",
   "metadata": {
    "slideshow": {
     "slide_type": "slide"
    }
   },
   "source": [
    "\n",
    "## Subplots\n",
    "\n",
    "```python\n",
    "    (fig, axes) = subplots(nrows, ncols)\n",
    "```\n",
    "\n",
    "<img src=\"subplotgrid.png\" style=\"float: right; width: 50%; margin-right: 5%; margin-top: 0%; margin-bottom: 1%\">\n",
    "\n",
    "* There can be multiple plots, i.e. subplots, within a figure\n",
    "\n",
    "\n",
    "* Use `subplots()` to place plots on a regular grid\n",
    "\n",
    "* `subplots()` returns a tuple with a reference to the figure (`fig`) and an array of references to each subplot axes (`axes`)\n",
    "\n",
    "\n",
    "* Need to control which subplot is used\n",
    "\n",
    "    * \"Current\" axes is last created\n",
    "    * Or use `pyplot.sca(ax)` to set the current axes to the axes referenced by `ax`\n",
    "    \n",
    "\n",
    "* Note that there is also `pyplot.subplot()`, which is different"
   ]
  },
  {
   "cell_type": "markdown",
   "metadata": {
    "slideshow": {
     "slide_type": "slide"
    }
   },
   "source": [
    "\n",
    "## Subplots and axes objects\n",
    "\n",
    "Can move between subplots by keeping a reference to each subplot axes using an array called, e.g., `axes`"
   ]
  },
  {
   "cell_type": "code",
   "execution_count": null,
   "metadata": {
    "slideshow": {
     "slide_type": "-"
    }
   },
   "outputs": [],
   "source": [
    "from matplotlib import pyplot as plt\n",
    "\n",
    "(fig, axes) = plt.subplots(nrows = 2, ncols = 2)\n",
    "\n",
    "axes[0,0].plot(x, y, 'b-')\n",
    "axes[1,1].plot(x, y, 'r-')\n",
    "plt.show()\n"
   ]
  },
  {
   "cell_type": "code",
   "execution_count": null,
   "metadata": {
    "slideshow": {
     "slide_type": "-"
    }
   },
   "outputs": [],
   "source": [
    "# Space between subplots may be adjusted.\n",
    "# subplots_adjust(left=None, bottom=None, right=None, top=None,\n",
    "#                 wspace=None, hspace=None)\n",
    "\n",
    "(fig, axes) = plt.subplots(nrows = 2, ncols = 2)\n",
    "plt.subplots_adjust(wspace = 0.5, hspace = 0.5)\n",
    "\n",
    "plt.sca(axes[0,1]) # set current axis\n",
    "plt.plot(x, y, 'b-')\n",
    "plt.sca(axes[1,0])\n",
    "plt.plot(x, y, 'r-')\n",
    "plt.show()"
   ]
  },
  {
   "cell_type": "markdown",
   "metadata": {},
   "source": [
    "Note : if you wanted to call `subplot_adjust()` without using the `pyplot` module, this is what you would have to call:\n",
    "```python\n",
    "matplotlib.figure.Figure.subplots_adjust()\n",
    "```"
   ]
  },
  {
   "cell_type": "markdown",
   "metadata": {
    "slideshow": {
     "slide_type": "slide"
    }
   },
   "source": [
    "\n",
    "## General subplots using subplot2grid \n",
    "\n",
    "<img src=\"subplot2grid.png\" style=\"float: right; width: 50%; margin-right: 5%; margin-top: 0%; margin-bottom: 1%\">\n",
    "\n",
    "* For more control over subplot layout, use `subplot2grid()`\n",
    "\n",
    "```python\n",
    "subplot2grid(shape,\n",
    "             location,\n",
    "             rowspan = 1,\n",
    "             colspan = 1)\n",
    "```\n",
    "\n",
    "* Subplots can span more than one row or column</p>\n",
    "  \n",
    "<br>\n",
    "<br>"
   ]
  },
  {
   "cell_type": "code",
   "execution_count": null,
   "metadata": {
    "slideshow": {
     "slide_type": "-"
    }
   },
   "outputs": [],
   "source": [
    "# For example:\n",
    "# subplot2grid(shape, loc, rowspan=1, colspan=1)\n",
    "\n",
    "fig = plt.figure()\n",
    "\n",
    "ax1 = plt.subplot2grid((3, 3), (0, 0))\n",
    "ax2 = plt.subplot2grid((3, 3), (0, 1), colspan=2)\n",
    "ax3 = plt.subplot2grid((3, 3), (1, 0), colspan=2, rowspan=2)\n",
    "ax4 = plt.subplot2grid((3, 3), (1, 2), rowspan=2)\n",
    "# what happens if you uncomment the following line? \n",
    "#ax5 = plt.subplot2grid((3, 3), (1, 1), colspan=1, rowspan=1)\n",
    "ax1.plot(x, y, 'rx')\n",
    "ax2.plot(x, y, 'go')\n",
    "# use a html \"hex string\" e.g. '#9933ff',\n",
    "# or RBG tuple in [0,1] range e.g. (0.9,0.9,0.25)\n",
    "ax3.plot(x, y, '-s', color = (0.9,0.9,0.25)) \n",
    "ax4.plot(x, y, 'c-')\n",
    "plt.show()"
   ]
  },
  {
   "cell_type": "markdown",
   "metadata": {
    "slideshow": {
     "slide_type": "slide"
    }
   },
   "source": [
    "\n",
    "## Exercise: Three plots\n",
    "\n",
    "We are now going to try to create a plot, using `subplots()`,  which looks like:\n",
    "\n",
    "<img src = \"exercise2.png\">\n",
    "\n",
    "#### Step 1\n",
    "\n",
    "You will need three sets of data. For the pie chart you will need to create arrays with the four percentages shown, and the corresponding colours. The colours are:\n",
    "\n",
    "```python\n",
    "['yellowgreen', 'gold', 'lightskyblue', 'lightcoral']\n",
    "```\n",
    "\n",
    "The two histograms are generated from data in the files `uniform.dat` and `normal.dat` respectively.\n",
    "\n",
    "#### Step 2\n",
    "\n",
    "You will need to create three subplots, the total size of which can be controled by setting the size of the *figure* object via\n",
    "\n",
    "```python\n",
    "fig.set_size_inches(width, height)\n",
    "```\n",
    "\n",
    "Make sure the pie chart appears in the first subplot.\n",
    "\n",
    "#### Step 3\n",
    "\n",
    "Check the online documentation for the pie chart to see how to produce it:\n",
    "\n",
    "http://matplotlib.org/api/pyplot_api.html#matplotlib.pyplot.pie\n",
    "\n",
    "And check the documentation for the histogram:\n",
    "\n",
    "http://matplotlib.org/api/pyplot_api.html#matplotlib.pyplot.hist\n",
    "\n"
   ]
  },
  {
   "cell_type": "code",
   "execution_count": null,
   "metadata": {},
   "outputs": [],
   "source": [
    "# Again, use the notebook,\n",
    "# or a write your code in a separate file.\n",
    "\n",
    "# Note: To obtain LaTeX fonts, you may need\n",
    "# to uncomment and execute the following...\n",
    "# matplotlib.rcParams[\"text.usetex\"] = True\n",
    "\n",
    "from matplotlib import pyplot as plt\n"
   ]
  },
  {
   "cell_type": "markdown",
   "metadata": {
    "slideshow": {
     "slide_type": "slide"
    }
   },
   "source": [
    "\n",
    "### Solution : Three plots\n"
   ]
  },
  {
   "cell_type": "code",
   "execution_count": null,
   "metadata": {},
   "outputs": [],
   "source": [
    "# Execute the cell to see a solution\n",
    "%load exercise2.py\n"
   ]
  },
  {
   "cell_type": "markdown",
   "metadata": {},
   "source": [
    " "
   ]
  },
  {
   "cell_type": "markdown",
   "metadata": {
    "slideshow": {
     "slide_type": "slide"
    }
   },
   "source": [
    "\n",
    "## Other type of plots\n",
    "\n",
    "#### Check the gallery\n",
    "\n",
    "http://matplotlib.org/gallery.html\n"
   ]
  },
  {
   "cell_type": "markdown",
   "metadata": {
    "slideshow": {
     "slide_type": "slide"
    }
   },
   "source": [
    "\n",
    "## Customisation : matplotlibrc settings\n",
    "\n",
    "* Particular settings for `matplotlib` can be stored in a file called the `matplotlibrc` file.\n",
    "\n",
    "```python\n",
    "import matplotlib\n",
    "\n",
    "matplotlib.rc_file(\"/path/to/my/matplotlibrc\")\n",
    "```\n",
    "\n",
    "* You would edit the `matplotlibrc` for different journal or presentation styles, for example. You could have a separate `matplotlibrc` for each type of style\n",
    "\n",
    "\n",
    "* Matplotlib will look in your current directory first, then in `$MATPLOTLIBRC/matplotlibrc`, then somewhere like .matplotlib/matplotlibrc, then in the INSTALL directory\n",
    "e.g. `usr/lib/python2.7/site-packages/matplotlib/...` (Unix)\n",
    "\n",
    "\n",
    "* Can find where the current `matplotlibrc` file lives with command `matplotlib.matplotlib_fname()`\n",
    "\n",
    "See http://matplotlib.org/users/customizing.html\n"
   ]
  },
  {
   "cell_type": "code",
   "execution_count": null,
   "metadata": {},
   "outputs": [],
   "source": [
    "import matplotlib\n",
    "import matplotlib.pyplot as plt\n",
    "\n",
    "!ls \n",
    "\n",
    "# This is read at start-up, so you may need to restart the session\n",
    "# Remember to import matplotlib and pyplot\n",
    "matplotlib.rc_file(\"matplotlibrc.test\")"
   ]
  },
  {
   "cell_type": "code",
   "execution_count": null,
   "metadata": {},
   "outputs": [],
   "source": [
    "plt.plot(x, y, \"r+\")\n",
    "plt.show()\n",
    "! cat matplotlibrc.test"
   ]
  },
  {
   "cell_type": "code",
   "execution_count": null,
   "metadata": {},
   "outputs": [],
   "source": [
    "! cat matplotlibrc.test"
   ]
  },
  {
   "cell_type": "markdown",
   "metadata": {
    "slideshow": {
     "slide_type": "slide"
    }
   },
   "source": [
    "\n",
    "### matplotlibrc settings\n",
    "\n",
    "Example\n",
    "\n",
    "```python\n",
    "axes.labelsize  : 9.0\n",
    "xtick.labelsize : 9.0\n",
    "ytick.labelsize : 9.0\n",
    "legend.fontsize : 9.0\n",
    "\n",
    "# if you get an error about the serif font-family not being found,\n",
    "# delete your matplotlib cache file - something like: \n",
    "# Mac: ~/.matplotlib/fontlist-v310.json\n",
    "# Windows: /Users/<username>/.matplotlib\\fontList.cache\n",
    "font.family     : serif  \n",
    "font.serif      : Computer Modern Roman\n",
    "\n",
    "# Marker size\n",
    "lines.markersize  : 3\n",
    "\n",
    "# Use TeX to format all text (Agg, ps, pdf backends)\n",
    "# n.b. this requires TeX to be installed - if you don't,\n",
    "#   comment out this line (or don't copy it to your matplotlibrc file)\n",
    "text.usetex : True\n",
    "```\n"
   ]
  },
  {
   "cell_type": "markdown",
   "metadata": {
    "slideshow": {
     "slide_type": "slide"
    }
   },
   "source": [
    "\n",
    "## Exercise : Custom configurations\n",
    "\n",
    "#### Step 1\n",
    "Copy the settings provided above (or create some of your own) to a file\n",
    "\n",
    "#### Step 2\n",
    "In a separate notebook or python script, recreate the 3-subplot figure of the previous exercise with the new settings. If you're using the settings specified above, which one isn't used in the 3-subplot figure?\n"
   ]
  },
  {
   "cell_type": "markdown",
   "metadata": {
    "slideshow": {
     "slide_type": "slide"
    }
   },
   "source": [
    "\n",
    "## Summary \n",
    "\n",
    "* Builds on `numpy`\n",
    "\n",
    "* Simple, interactive plotting\n",
    "\n",
    "* Many examples available online\n",
    "\n",
    "* Good enough for publication quality images\n",
    "\n",
    "* Can be customised for different scenarios\n"
   ]
  },
  {
   "cell_type": "markdown",
   "metadata": {},
   "source": [
    "\n",
    "## Note on $\\LaTeX$ mark-ups\n",
    "\n",
    "* $\\TeX$ mark-ups may be used in matplotlib labels etc\n",
    "\n",
    "* Strings containing mark-ups introduced by \"`\\ `\" may require that the relevant string is prefixed by \"`r`\" (raw string) \n",
    "\n",
    "* This determines the way in which escaped literals are interpreted by python\n",
    "    \n",
    "Example"
   ]
  },
  {
   "cell_type": "code",
   "execution_count": null,
   "metadata": {},
   "outputs": [],
   "source": [
    "plt.plot(x, y, \"-\")\n",
    "plt.xlabel(r\"Label is $\\theta$\", fontsize = 16)\n",
    "plt.ylabel(r\"Label is $\\cos(\\theta)$\", fontsize = 16)\n",
    "plt.show()"
   ]
  },
  {
   "cell_type": "markdown",
   "metadata": {
    "slideshow": {
     "slide_type": "slide"
    }
   },
   "source": [
    "\n",
    "## Advanced topic #1: Matplotlib frontend and backend\n",
    "\n",
    "Matplotlib consists of two parts, a frontend and a backend:\n",
    " \n",
    "  * Frontend : the user facing code i.e the interface\n",
    "  * Backend : does all the hard work behind-the-scenes to render the image\n",
    "  \n",
    "There are two types of backend:\n",
    "\n",
    "  * User interface, or *interactive*, backends\n",
    "   \n",
    "   \n",
    "  * Hardcopy, or *non-interactive*, backends to make image files\n",
    "  \n",
    "   * e.g. Agg (png), Cairo (svg), PDF (pdf), PS (eps, ps)\n",
    "\n",
    "  \n",
    "  * You can check which backend is being used with:\n",
    "  \n",
    "  \n",
    "```python\n",
    "matplotlib.get_backend()\n",
    "```\n",
    "       \n",
    " \n",
    "  * Switch to a different backend (*before* importing `pyplot`) with\n",
    "  \n",
    "```python\n",
    "matplotlib.use(...)\n",
    "import matplot.pyplot as plt\n",
    "...\n",
    "```\n",
    "\n",
    "For more information:\n",
    "\n",
    "http://matplotlib.org/faq/usage_faq.html#what-is-a-backend\n",
    " \n"
   ]
  },
  {
   "cell_type": "markdown",
   "metadata": {
    "slideshow": {
     "slide_type": "slide"
    }
   },
   "source": [
    "\n",
    "## Advanced topic #2: Interactive mode and the iPython shell\n",
    "\n",
    "* By default, the iPython shell will not display figures to the screen until the `plt.show()` command\n",
    "\n",
    "  * This command \"blocks\" any further commands being issued in the shell\n",
    "  * Close the figure using the window manager to continue issuing commands in the shell\n",
    "\n",
    "\n",
    "* In \"interactive\" mode, the iPython backend points to an \"interactive\" backend, which allows a figure display to screen as soon as either `plt.figure()` or `plt.plot()` is called\n",
    "\n",
    "  * The displayed figure can be updated \"interactively\" by issuing further commands in the shell\n",
    "\n",
    "\n",
    "* To run an iPython shell in \"interactive\" mode, can launch the shell with\n",
    "\n",
    "```bash\n",
    "bash> ipython --matplotlib\n",
    "\n",
    "```\n",
    "\n",
    "* Or issue `%matplotlib` from within the shell. Note: this must be done before importing anything from `matplotlib`\n",
    "\n",
    "\n",
    "* An \"interactive\" backend does not however guarantee your figures will automatically display to screen (not as simple as that, see link below)\n",
    "\n",
    "\n",
    "* You can query if your shell is in \"interactive\" mode with: `matplotlib.is_interactive()`\n",
    "\n",
    "For more information:\n",
    "\n",
    "http://matplotlib.org/faq/usage_faq.html#what-is-interactive-mode"
   ]
  },
  {
   "cell_type": "markdown",
   "metadata": {},
   "source": [
    "<br>\n",
    "<hr class=\"top\">\n",
    "<hr class=\"bot\">\n",
    "<br>"
   ]
  }
 ],
 "metadata": {
  "anaconda-cloud": {},
  "celltoolbar": "Raw Cell Format",
  "kernelspec": {
   "display_name": "Python 3 (ipykernel)",
   "language": "python",
   "name": "python3"
  },
  "language_info": {
   "codemirror_mode": {
    "name": "ipython",
    "version": 3
   },
   "file_extension": ".py",
   "mimetype": "text/x-python",
   "name": "python",
   "nbconvert_exporter": "python",
   "pygments_lexer": "ipython3",
   "version": "3.8.10"
  }
 },
 "nbformat": 4,
 "nbformat_minor": 4
}
