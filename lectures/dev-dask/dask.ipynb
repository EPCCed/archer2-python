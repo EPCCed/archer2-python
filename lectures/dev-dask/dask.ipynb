{
 "cells": [
  {
   "cell_type": "markdown",
   "metadata": {},
   "source": [
    "<hr style=\"border: solid 1px red; margin-bottom: 2% \">\n",
    "\n",
    "## ARCHER2 SCIENTIFIC PYTHON COURSE\n",
    "\n",
    "# Parallel Processing with Dask\n",
    "<hr style=\"border: solid 1px red; margin-bottom: -1%; \">\n",
    "\n",
    "## Website:  http://www.archer2.ac.uk \n",
    "\n",
    "## Helpdesk: support@archer2.ac.uk\n",
    "\n",
    "<br>\n",
    "\n",
    "<img src=\"../images/ukri_logo.png\" style=\"float: center\">\n",
    "<br>\n",
    "<img src=\"../images/hpe_logo.png\" style=\"float: center\">\n",
    "<br>\n",
    "<img src=\"../images/epcc_logo.png\" style=\"float: center\">\n",
    "<br>\n",
    "<img src=\"../images/archer2_logo.png\" style=\"float: center\">\n",
    "\n",
    "<br>"
   ]
  },
  {
   "cell_type": "markdown",
   "metadata": {},
   "source": [
    "<img src=\"../images/reusematerial.png\">"
   ]
  },
  {
   "cell_type": "markdown",
   "metadata": {},
   "source": [
    "<br>\n",
    "<hr class=\"top\">\n",
    "\n",
    "## Dask\n",
    "\n",
    "<hr class=\"bot\">\n",
    "<br>"
   ]
  },
  {
   "cell_type": "markdown",
   "metadata": {},
   "source": [
    "\n",
    "<br>\n",
    "<hr class=\"top\">\n",
    "\n",
    "## General\n",
    "\n",
    "<hr class=\"bot\">\n",
    "<br>\n"
   ]
  },
  {
   "cell_type": "markdown",
   "metadata": {},
   "source": [
    " <br>\n",
    "<hr class=\"top\">\n",
    "<hr class=\"bot\">\n",
    "<br>"
   ]
  }
 ],
 "metadata": {
  "anaconda-cloud": {},
  "kernelspec": {
   "display_name": "Python 3 (ipykernel)",
   "language": "python",
   "name": "python3"
  },
  "language_info": {
   "codemirror_mode": {
    "name": "ipython",
    "version": 3
   },
   "file_extension": ".py",
   "mimetype": "text/x-python",
   "name": "python",
   "nbconvert_exporter": "python",
   "pygments_lexer": "ipython3",
   "version": "3.8.10"
  }
 },
 "nbformat": 4,
 "nbformat_minor": 4
}
